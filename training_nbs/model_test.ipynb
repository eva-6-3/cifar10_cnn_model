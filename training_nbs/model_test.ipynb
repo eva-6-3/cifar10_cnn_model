{
 "cells": [
  {
   "cell_type": "code",
   "execution_count": 1,
   "metadata": {
    "ExecuteTime": {
     "end_time": "2021-06-20T13:28:42.233349Z",
     "start_time": "2021-06-20T13:28:42.202688Z"
    }
   },
   "outputs": [],
   "source": [
    "%load_ext autoreload\n",
    "%autoreload 2"
   ]
  },
  {
   "cell_type": "code",
   "execution_count": 2,
   "metadata": {
    "ExecuteTime": {
     "end_time": "2021-06-20T13:28:42.701185Z",
     "start_time": "2021-06-20T13:28:42.678700Z"
    }
   },
   "outputs": [],
   "source": [
    "import sys\n",
    "sys.path.append('../utils/')"
   ]
  },
  {
   "cell_type": "code",
   "execution_count": 36,
   "metadata": {
    "ExecuteTime": {
     "end_time": "2021-06-20T18:15:25.375263Z",
     "start_time": "2021-06-20T18:15:25.339298Z"
    }
   },
   "outputs": [],
   "source": [
    "from model import Net\n",
    "from misc import show_model_summary"
   ]
  },
  {
   "cell_type": "code",
   "execution_count": 40,
   "metadata": {
    "ExecuteTime": {
     "end_time": "2021-06-20T18:50:09.333105Z",
     "start_time": "2021-06-20T18:50:07.643465Z"
    }
   },
   "outputs": [
    {
     "name": "stdout",
     "output_type": "stream",
     "text": [
      "----------------------------------------------------------------\n",
      "        Layer (type)               Output Shape         Param #\n",
      "================================================================\n",
      "            Conv2d-1           [-1, 16, 32, 32]             432\n",
      "       BatchNorm2d-2           [-1, 16, 32, 32]              32\n",
      "              ReLU-3           [-1, 16, 32, 32]               0\n",
      "           Dropout-4           [-1, 16, 32, 32]               0\n",
      "         ConvBNAct-5           [-1, 16, 32, 32]               0\n",
      "            Conv2d-6           [-1, 32, 32, 32]           4,608\n",
      "       BatchNorm2d-7           [-1, 32, 32, 32]              64\n",
      "              ReLU-8           [-1, 32, 32, 32]               0\n",
      "           Dropout-9           [-1, 32, 32, 32]               0\n",
      "        ConvBNAct-10           [-1, 32, 32, 32]               0\n",
      "           Conv2d-11           [-1, 32, 32, 32]           9,216\n",
      "      BatchNorm2d-12           [-1, 32, 32, 32]              64\n",
      "             ReLU-13           [-1, 32, 32, 32]               0\n",
      "          Dropout-14           [-1, 32, 32, 32]               0\n",
      "        ConvBNAct-15           [-1, 32, 32, 32]               0\n",
      "           Conv2d-16           [-1, 32, 15, 15]           9,216\n",
      "      BatchNorm2d-17           [-1, 32, 15, 15]              64\n",
      "             ReLU-18           [-1, 32, 15, 15]               0\n",
      "          Dropout-19           [-1, 32, 15, 15]               0\n",
      "        ConvBNAct-20           [-1, 32, 15, 15]               0\n",
      "           Conv2d-21           [-1, 32, 15, 15]           9,216\n",
      "      BatchNorm2d-22           [-1, 32, 15, 15]              64\n",
      "             ReLU-23           [-1, 32, 15, 15]               0\n",
      "          Dropout-24           [-1, 32, 15, 15]               0\n",
      "        ConvBNAct-25           [-1, 32, 15, 15]               0\n",
      "           Conv2d-26           [-1, 52, 15, 15]          14,976\n",
      "      BatchNorm2d-27           [-1, 52, 15, 15]             104\n",
      "             ReLU-28           [-1, 52, 15, 15]               0\n",
      "          Dropout-29           [-1, 52, 15, 15]               0\n",
      "        ConvBNAct-30           [-1, 52, 15, 15]               0\n",
      "           Conv2d-31             [-1, 64, 7, 7]          29,952\n",
      "      BatchNorm2d-32             [-1, 64, 7, 7]             128\n",
      "             ReLU-33             [-1, 64, 7, 7]               0\n",
      "          Dropout-34             [-1, 64, 7, 7]               0\n",
      "        ConvBNAct-35             [-1, 64, 7, 7]               0\n",
      "           Conv2d-36             [-1, 64, 7, 7]          36,864\n",
      "      BatchNorm2d-37             [-1, 64, 7, 7]             128\n",
      "             ReLU-38             [-1, 64, 7, 7]               0\n",
      "          Dropout-39             [-1, 64, 7, 7]               0\n",
      "        ConvBNAct-40             [-1, 64, 7, 7]               0\n",
      "           Conv2d-41             [-1, 64, 7, 7]          36,864\n",
      "      BatchNorm2d-42             [-1, 64, 7, 7]             128\n",
      "             ReLU-43             [-1, 64, 7, 7]               0\n",
      "          Dropout-44             [-1, 64, 7, 7]               0\n",
      "        ConvBNAct-45             [-1, 64, 7, 7]               0\n",
      "           Conv2d-46             [-1, 64, 5, 5]           4,096\n",
      "      BatchNorm2d-47             [-1, 64, 5, 5]             128\n",
      "             ReLU-48             [-1, 64, 5, 5]               0\n",
      "          Dropout-49             [-1, 64, 5, 5]               0\n",
      "        ConvBNAct-50             [-1, 64, 5, 5]               0\n",
      "           Conv2d-51             [-1, 64, 5, 5]          36,864\n",
      "      BatchNorm2d-52             [-1, 64, 5, 5]             128\n",
      "             ReLU-53             [-1, 64, 5, 5]               0\n",
      "          Dropout-54             [-1, 64, 5, 5]               0\n",
      "        ConvBNAct-55             [-1, 64, 5, 5]               0\n",
      "           Conv2d-56             [-1, 10, 5, 5]           5,760\n",
      "        ConvBNAct-57             [-1, 10, 5, 5]               0\n",
      "        AvgPool2d-58             [-1, 10, 1, 1]               0\n",
      "================================================================\n",
      "Total params: 199,096\n",
      "Trainable params: 199,096\n",
      "Non-trainable params: 0\n",
      "----------------------------------------------------------------\n",
      "Input size (MB): 0.01\n",
      "Forward/backward pass size (MB): 4.61\n",
      "Params size (MB): 0.76\n",
      "Estimated Total Size (MB): 5.38\n",
      "----------------------------------------------------------------\n"
     ]
    }
   ],
   "source": [
    "net = Net()\n",
    "show_model_summary(net, (3, 32, 32))"
   ]
  },
  {
   "cell_type": "code",
   "execution_count": null,
   "metadata": {},
   "outputs": [],
   "source": []
  },
  {
   "cell_type": "code",
   "execution_count": null,
   "metadata": {},
   "outputs": [],
   "source": []
  }
 ],
 "metadata": {
  "kernelspec": {
   "display_name": "Python3.6",
   "language": "python",
   "name": "python3.6"
  },
  "language_info": {
   "codemirror_mode": {
    "name": "ipython",
    "version": 3
   },
   "file_extension": ".py",
   "mimetype": "text/x-python",
   "name": "python",
   "nbconvert_exporter": "python",
   "pygments_lexer": "ipython3",
   "version": "3.6.12"
  }
 },
 "nbformat": 4,
 "nbformat_minor": 5
}
